{
 "cells": [
  {
   "cell_type": "code",
   "execution_count": null,
   "metadata": {},
   "outputs": [],
   "source": [
    "import pandas as pd\n",
    "import numpy as np\n",
    "import matplotlib.pyplot as plt\n",
    "\n",
    "from statsmodels.tsa.arima.model import ARIMA\n",
    "from statsmodels.tsa.statespace.sarimax import SARIMAX\n",
    "from statsmodels.graphics.tsaplots import plot_acf\n",
    "from statsmodels.stats.diagnostic import acorr_ljungbox\n",
    "from statsmodels.tsa.arima_process import ArmaProcess\n",
    "import statsmodels.api as sm\n",
    "\n",
    "from sktime.forecasting.naive import NaiveForecaster\n",
    "from sktime.forecasting.arima import AutoARIMA\n",
    "\n",
    "from sklearn.metrics import mean_squared_error\n",
    "\n",
    "from prophet import Prophet\n",
    "\n",
    "import missingno as msno\n",
    "import seaborn as sns\n",
    "import warnings\n",
    "\n",
    "warnings.filterwarnings('ignore')\n",
    "plt.style.use('ggplot')"
   ]
  },
  {
   "cell_type": "markdown",
   "metadata": {},
   "source": [
    "# Understanding basic concepts in Time Series\n"
   ]
  },
  {
   "cell_type": "markdown",
   "metadata": {},
   "source": [
    "\n",
    "## From White Noise to ACF plots"
   ]
  },
  {
   "cell_type": "code",
   "execution_count": null,
   "metadata": {},
   "outputs": [],
   "source": [
    "np.random.seed(1234)\n",
    "# generate white noise for 200 observations and plot it\n",
    "white_noise = np.random.normal(0, 1, 200)\n",
    "plt.plot(white_noise)\n"
   ]
  },
  {
   "cell_type": "code",
   "execution_count": null,
   "metadata": {},
   "outputs": [],
   "source": [
    "# generate a white noise with mean 4 and sd 2 then use the arima function to estimate the parameters\n",
    "white_noise = np.random.normal(4, 2, 200)\n",
    "ARIMA(white_noise, order=(1, 0, 0)).fit().summary()"
   ]
  },
  {
   "cell_type": "markdown",
   "metadata": {},
   "source": [
    "### Explain with your own words what a random walk is (minimum 100 words).\n",
    "\n",
    "A random walk is a time series where the next value is dependent on the previous value. A white noise is a time series where the next value is independent of the previous value. \n",
    "\n",
    "### Explain with your own words what stationarity means for a time series\n",
    "\n",
    "A stationary time series is a time series where the mean, variance and autocorrelation are constant over time."
   ]
  },
  {
   "cell_type": "code",
   "execution_count": null,
   "metadata": {},
   "outputs": [],
   "source": [
    "# Create a random walk series, plot it, calculate the first difference series and plot it\n",
    "random_walk = np.cumsum(np.random.normal(0, 1, 200))\n",
    "plt.plot(random_walk)\n",
    "plt.plot(np.diff(random_walk))\n",
    "plt.show()"
   ]
  },
  {
   "cell_type": "code",
   "execution_count": null,
   "metadata": {},
   "outputs": [],
   "source": [
    "# Generate WN drift data, convert it to a random walk and plot it\n",
    "white_noise_drift = np.cumsum(np.random.normal(0, 1, 200)) + (np.arange(200) / 10)\n",
    "plt.plot(white_noise_drift)\n",
    "plt.show()"
   ]
  },
  {
   "cell_type": "code",
   "execution_count": null,
   "metadata": {},
   "outputs": [],
   "source": [
    "# Plot the ACF on the white noise.\n",
    "plot_acf(white_noise, lags=20)\n",
    "plt.show()"
   ]
  },
  {
   "cell_type": "markdown",
   "metadata": {},
   "source": [
    "### What’s the characteristic of a white noise ACF ?\n",
    "\n",
    "The ACF of a white noise is 0 for all lags. Moreover, they are never statistically significant."
   ]
  },
  {
   "cell_type": "code",
   "execution_count": null,
   "metadata": {},
   "outputs": [],
   "source": [
    "# Perform a Ljung-Box Test. Command : Box.test in R, ljung is an option.\n",
    "acorr_ljungbox(white_noise, lags=20)"
   ]
  },
  {
   "cell_type": "markdown",
   "metadata": {},
   "source": [
    "## ARMA models"
   ]
  },
  {
   "cell_type": "code",
   "execution_count": null,
   "metadata": {},
   "outputs": [],
   "source": [
    "# Use the arima.sim function (or Python equivalent) to generate time series based on the autoregressive model, with slopes comprised between -1 and 1.\n",
    "arima_sim = ArmaProcess(ar = [0.3, -0.25]).generate_sample(nsample=200)\n",
    "plt.plot(arima_sim)\n",
    "plt.show()"
   ]
  },
  {
   "cell_type": "markdown",
   "metadata": {},
   "source": [
    "### What do you observe ?\n",
    "\n",
    "The ACF of the random walk is not 0 for all lags. Moreover, they are statistically significant. also, the lags are positively correlated."
   ]
  },
  {
   "cell_type": "code",
   "execution_count": null,
   "metadata": {},
   "outputs": [],
   "source": [
    "# Plot them, and the acf functions along with it.\n",
    "plot_acf(arima_sim, lags=20).show()"
   ]
  },
  {
   "cell_type": "code",
   "execution_count": null,
   "metadata": {},
   "outputs": [],
   "source": [
    "# Do the same with the moving average model. What do you observe ?\n",
    "arima_sim = ArmaProcess(ma = [0.3, -0.25]).generate_sample(nsample=200)\n",
    "plt.plot(arima_sim)"
   ]
  },
  {
   "cell_type": "code",
   "execution_count": null,
   "metadata": {},
   "outputs": [],
   "source": [
    "plot_acf(arima_sim, lags=20).show()"
   ]
  },
  {
   "cell_type": "markdown",
   "metadata": {},
   "source": [
    "### What do you observe ?\n",
    "\n",
    "The ACF of the MA simulation is not 0 for all lags. Moreover, they are statistically significant. also, the lags are negatively correlated."
   ]
  },
  {
   "cell_type": "code",
   "execution_count": null,
   "metadata": {},
   "outputs": [],
   "source": [
    "# Contrast AR(1) and AR(2) models. How do they differ ?\n",
    "\n",
    "# AR(1)\n",
    "arima_sim = ArmaProcess(ar = [0.3, -0.25]).generate_sample(nsample=200)\n",
    "plt.plot(arima_sim)\n",
    "\n",
    "\n",
    "# AR(2)\n",
    "arima_sim = ArmaProcess(ar = [0.3, -0.25, 0.3]).generate_sample(nsample=200)\n",
    "plt.plot(arima_sim)\n",
    "\n",
    "plt.legend(['AR(1)', 'AR(2)'])\n",
    "plt.show()\n"
   ]
  },
  {
   "cell_type": "markdown",
   "metadata": {},
   "source": [
    "They differ by how the lags are correlated. The AR(2) model is more correlated to its 2 previous lags rather than the AR(1) model which is more correlated to only its first lag."
   ]
  },
  {
   "cell_type": "markdown",
   "metadata": {},
   "source": [
    "### What is the difference between an Autocorrelation Function and a Partial autocorrelation Function ? (Min. 150 words)\n",
    "\n",
    "The ACF is the correlation between the time series and its lags. The PACF is the correlation between the time series and its lags, while controlling for the effect of the intermediate lags. The PACF is a better indicator of the order of the AR model. The PACF of an AR(1) model is 0 for all lags after the first lag. The PACF of an AR(2) model is 0 for all lags after the second lag.\n"
   ]
  },
  {
   "cell_type": "code",
   "execution_count": null,
   "metadata": {},
   "outputs": [],
   "source": [
    "# Plot the ACF and the PACF of an AR, a MA, and ARMA models.\n",
    "ar_sim = ArmaProcess(ar = [0.3, -0.25]).generate_sample(nsample=200)\n",
    "plt.plot(arima_sim)\n",
    "\n",
    "ma_sim = ArmaProcess(ma = [0.3, -0.25]).generate_sample(nsample=200)\n",
    "plt.plot(ma_sim)\n",
    "\n",
    "arma_sim = ArmaProcess(ar = [0.3, -0.25], ma = [0.3, -0.25]).generate_sample(nsample=200)\n",
    "plt.plot(arma_sim)\n",
    "\n",
    "plt.legend(['AR', 'MA', 'ARMA'])\n",
    "plt.show()\n",
    "\n",
    "# Plot the ACF and the PACF of an AR, a MA, and ARMA models.\n",
    "plot_acf(ar_sim, lags=20).show()\n",
    "plot_acf(ma_sim, lags=20).show()\n",
    "plot_acf(arma_sim, lags=20).show()\n"
   ]
  },
  {
   "cell_type": "markdown",
   "metadata": {},
   "source": [
    "The main difference between the ACF and the PACF is that the PACF is a better indicator of the order of the AR model. The PACF of an AR(1) model is 0 for all lags after the first lag. The PACF of an AR(2) model is 0 for all lags after the second lag."
   ]
  },
  {
   "cell_type": "markdown",
   "metadata": {},
   "source": [
    "### Write the equation of an ARMA model\n",
    "\n",
    "$$X_t = \\mu + \\epsilon_t + \\sum_{i=1}^p \\phi_i X_{t-i} + \\sum_{i=1}^q \\theta_i \\epsilon_{t-i}$$\n",
    "\n",
    "### What are the main differences between AIC and BIC criteria, conceptually speaking ? Elaborate (Min. 100 words).\n",
    "\n",
    "The AIC criterion is the log-likelihood of the model plus a penalty term. The BIC criterion is the log-likelihood of the model plus a penalty term. The penalty term is higher for the BIC criterion. The AIC criterion is more suitable for small sample sizes, while the BIC criterion is more suitable for large sample sizes.\n"
   ]
  },
  {
   "cell_type": "markdown",
   "metadata": {},
   "source": [
    "# Forecasting competition on Kaggle\n"
   ]
  },
  {
   "cell_type": "code",
   "execution_count": null,
   "metadata": {},
   "outputs": [],
   "source": [
    "# Read the kaggle dataset\n",
    "sales_train = pd.read_csv('Kaggle dataset/sales_train.csv')\n",
    "sales_train[\"date\"] = pd.to_datetime(sales_train[\"date\"], format=\"%d.%m.%Y\")\n",
    "\n",
    "sales_train"
   ]
  },
  {
   "cell_type": "code",
   "execution_count": null,
   "metadata": {},
   "outputs": [],
   "source": [
    "# Choose item #20949 in sales_train\n",
    "sales_train_item20949 = sales_train[sales_train[\"item_id\"] == 20949]\n",
    "sales_train_item20949"
   ]
  },
  {
   "cell_type": "code",
   "execution_count": null,
   "metadata": {},
   "outputs": [],
   "source": [
    "# Create a time series of the Kaggle dataset, but with a lag 1\n",
    "sales_train_item20949_lag1 = sales_train_item20949.shift(1)\n",
    "sales_train_item20949_lag1"
   ]
  },
  {
   "cell_type": "code",
   "execution_count": null,
   "metadata": {},
   "outputs": [],
   "source": [
    "# cbind the two datasets, and look at them using the head command\n",
    "to_merge = sales_train_item20949_lag1.iloc[1: , :].append([None])\n",
    "merged_with_lag = pd.concat([sales_train_item20949, to_merge], axis=1).iloc[:-1, :].drop(0, axis=1)\n",
    "merged_with_lag"
   ]
  },
  {
   "cell_type": "code",
   "execution_count": null,
   "metadata": {},
   "outputs": [],
   "source": [
    "# use the cor function to look at the datasets, and then the acf function, with a lag 1.\n",
    "# Plot the acf with different logs to see what happens.\n",
    "sns.heatmap(sales_train_item20949.corr(), annot=True)\n",
    "sales_train_item20949[\"item_cnt_day\"].plot()\n",
    "plt.show()\n",
    "plot_acf(sales_train_item20949[\"item_cnt_day\"]).show()"
   ]
  },
  {
   "cell_type": "code",
   "execution_count": null,
   "metadata": {},
   "outputs": [],
   "source": [
    "# Set index to date\n",
    "sales_train_item20949 = sales_train_item20949.set_index(\"date\")"
   ]
  },
  {
   "cell_type": "code",
   "execution_count": null,
   "metadata": {},
   "outputs": [],
   "source": [
    "# Fit and plot an auto-regressive model to the time series.\n",
    "model = ARIMA(sales_train_item20949[\"item_cnt_day\"], order=(1, 0, 0))\n",
    "model_fit = model.fit()\n",
    "print(model_fit.summary())\n",
    "model_fit.plot_diagnostics()\n",
    "plt.show()"
   ]
  },
  {
   "cell_type": "markdown",
   "metadata": {},
   "source": [
    "What are the intercept and the innovation variance (sigma2) estimate ?\n",
    "What do these parameters mean ?\n",
    "\n",
    "The intercept is the mean of the time series and the innovation variance is the variance of the error term."
   ]
  },
  {
   "cell_type": "code",
   "execution_count": null,
   "metadata": {},
   "outputs": [],
   "source": [
    "# Predict the sales for a month after the end of the training dataset.\n",
    "# Use the predict function, and the forecast function.\n",
    "# Plot the results.\n",
    "X = sales_train_item20949[\"item_cnt_day\"].values\n",
    "ARIMA_model = ARIMA(X, order=(3, 0, 0))\n",
    "ARIMA_model_fit = ARIMA_model.fit()\n",
    "predictions = ARIMA_model_fit.forecast(steps=700)\n",
    "\n",
    "plt.plot(predictions, color='red')\n",
    "plt.show()"
   ]
  },
  {
   "cell_type": "code",
   "execution_count": null,
   "metadata": {},
   "outputs": [],
   "source": [
    "# Fit and plot a moving average model, and print the estimates\n",
    "model = ARIMA(sales_train_item20949[\"item_cnt_day\"], order=(0, 0, 1))\n",
    "model_fit = model.fit()\n",
    "model_fit.summary()"
   ]
  },
  {
   "cell_type": "code",
   "execution_count": null,
   "metadata": {},
   "outputs": [],
   "source": [
    "# Make a 1 to 15 steps forecast, and plot the 95 percent confidence intervals\n",
    "X = sales_train_item20949[\"item_cnt_day\"].values\n",
    "ARIMA_model = ARIMA(X, order=(0, 0, 1))\n",
    "ARIMA_model_fit = ARIMA_model.fit()\n",
    "predictions = ARIMA_model_fit.get_forecast(steps=15)\n",
    "confidence_interval = pd.DataFrame(predictions.conf_int(alpha = 0.05))\n",
    "\n",
    "plt.plot(predictions.predicted_mean, color='red')\n",
    "plt.fill_between(confidence_interval.index, confidence_interval.iloc[:, 0], confidence_interval.iloc[:, 1], color='red', alpha=.25)\n",
    "plt.show()"
   ]
  },
  {
   "cell_type": "code",
   "execution_count": null,
   "metadata": {},
   "outputs": [],
   "source": [
    "# Compare the goodness of fit of AR and MA models through AIC and BIC criteria\n",
    "\n",
    "# AR(1)\n",
    "model = ARIMA(sales_train_item20949[\"item_cnt_day\"], order=(1, 0, 0))\n",
    "model_fit = model.fit()\n",
    "print(model_fit.summary())\n",
    "\n",
    "# MA(1)\n",
    "model = ARIMA(sales_train_item20949[\"item_cnt_day\"], order=(0, 0, 1))\n",
    "model_fit = model.fit()\n",
    "print(model_fit.summary())"
   ]
  },
  {
   "cell_type": "markdown",
   "metadata": {},
   "source": [
    "The best model in this case according to AIC and BIC is the AR model, because lower is better."
   ]
  },
  {
   "cell_type": "code",
   "execution_count": null,
   "metadata": {},
   "outputs": [],
   "source": [
    "plot_acf(sales_train_item20949[\"item_cnt_day\"], lags=20).show()"
   ]
  },
  {
   "cell_type": "code",
   "execution_count": null,
   "metadata": {},
   "outputs": [],
   "source": [
    "# Use the residual analysis graphics of the Sarima function to check whether there are patterns in the residuals\n",
    "\n",
    "# Fit a SARIMA model\n",
    "model = SARIMAX(sales_train_item20949[\"item_cnt_day\"], order=(1, 0, 0), seasonal_order=(1, 0, 0, 12))\n",
    "model_fit = model.fit()\n",
    "model_fit.plot_diagnostics()"
   ]
  },
  {
   "cell_type": "markdown",
   "metadata": {},
   "source": [
    "Do you see any patterns in the residuals for the diverse models you have implemented ?\n",
    "No, the residuals are white noise.\n",
    "\n",
    "How should Q-Q plot look like when the model is a good fit ?\n",
    "The points of the Q-Q plot should all follow the line, in this case, the points follow the line quite well."
   ]
  },
  {
   "cell_type": "code",
   "execution_count": null,
   "metadata": {},
   "outputs": [],
   "source": [
    "# Fit various models (ARMA(1,1) - ARMA(2,1) - ARIMA(1,1,1) - ARIMA(1,1,0) to the Kaggle time series, and plot the t-table, check diagnostics\n",
    "\n",
    "# ARMA(1,1)\n",
    "model = ARIMA(sales_train_item20949[\"item_cnt_day\"], order=(1, 0, 1))\n",
    "model_fit = model.fit()\n",
    "print(model_fit.summary())\n",
    "model_fit.plot_diagnostics()\n",
    "\n",
    "# ARMA(2,1)\n",
    "model = ARIMA(sales_train_item20949[\"item_cnt_day\"], order=(2, 0, 1))\n",
    "model_fit = model.fit()\n",
    "print(model_fit.summary())\n",
    "model_fit.plot_diagnostics()\n",
    "\n",
    "# ARIMA(1,1,1)\n",
    "model = ARIMA(sales_train_item20949[\"item_cnt_day\"], order=(1, 1, 1))\n",
    "model_fit = model.fit()\n",
    "print(model_fit.summary())\n",
    "model_fit.plot_diagnostics()\n",
    "\n",
    "# ARIMA(1,1,0)\n",
    "model = ARIMA(sales_train_item20949[\"item_cnt_day\"], order=(1, 1, 0))\n",
    "model_fit = model.fit()\n",
    "print(model_fit.summary())\n",
    "model_fit.plot_diagnostics()"
   ]
  },
  {
   "cell_type": "code",
   "execution_count": null,
   "metadata": {},
   "outputs": [],
   "source": [
    "# Fit a seasonal model to the Kaggle dataset. Fit ACF models with the relevant lags. Example : SARIMA(2,1,0,1,0,0,12). What are the conceptual differences between an ARIMA and a SARIMA, from the mathematical point of view ? Then, play with the parameters of the seasonnal component of the model (increase them), and see how forecasting is affected.\n",
    "\n",
    "# SARIMA(2,1,0,1,0,0,12)\n",
    "model = SARIMAX(sales_train_item20949[\"item_cnt_day\"], order=(2, 1, 0), seasonal_order=(1, 0, 0, 12))\n",
    "model_fit = model.fit()\n",
    "print(model_fit.summary())\n",
    "model_fit.plot_diagnostics()"
   ]
  },
  {
   "cell_type": "markdown",
   "metadata": {},
   "source": [
    "The difference between ARIMA and SARIMA is that the ARIMA model is a linear model, while the SARIMA model is a non-linear model. The SARIMA model is a linear model with a seasonal component."
   ]
  },
  {
   "cell_type": "code",
   "execution_count": null,
   "metadata": {},
   "outputs": [],
   "source": [
    "# Present a relevant sample of Ljung-Box tests, and explain how they can be used to assess your models\n",
    "\n",
    "acorr_ljungbox(model_fit.resid, lags=[1, 2, 3, 4, 5, 6, 7, 8, 9, 10, 11, 12], boxpierce=True)"
   ]
  },
  {
   "cell_type": "markdown",
   "metadata": {},
   "source": [
    "The Ljung-Box test is a test for autocorrelation. The null hypothesis is that the residuals are white noise. The p-value is the probability of rejecting the null hypothesis. If the p-value is lower than 0.05, we reject the null hypothesis and conclude that the residuals are not white noise."
   ]
  },
  {
   "cell_type": "code",
   "execution_count": null,
   "metadata": {},
   "outputs": [],
   "source": [
    "# Use your favourite model to forecast the time series on the available test datasets\n",
    "\n",
    "# Fit a SARIMA model\n",
    "model = SARIMAX(sales_train_item20949[\"item_cnt_day\"], order=(1, 0, 0), seasonal_order=(1, 0, 0, 12))\n",
    "model_fit = model.fit()\n",
    "model_fit.plot_diagnostics()\n",
    "\n",
    "# Make predictions and plot them using model_fit\n",
    "predictions = model_fit.get_forecast(steps=700)\n",
    "sarimax_predictions = predictions.predicted_mean\n",
    "confidence_interval = pd.DataFrame(predictions.conf_int(alpha = 0.05))\n",
    "\n",
    "plt.plot(predictions.predicted_mean, color='red')\n",
    "plt.fill_between(confidence_interval.index, confidence_interval.iloc[:, 0], confidence_interval.iloc[:, 1], color='red', alpha=.25)\n",
    "plt.show()\n"
   ]
  },
  {
   "cell_type": "code",
   "execution_count": null,
   "metadata": {},
   "outputs": [],
   "source": [
    "# Perform a naive forecast based on the forecast package, to predict the sales for the training datasets\n",
    "\n",
    "# Fit a naive model\n",
    "naive_model = NaiveForecaster()\n",
    "naive_model.fit(y = sales_train_item20949[\"item_cnt_day\"], X = sales_train_item20949[\"date\"])\n",
    "\n",
    "# Make predictions and plot them using model_fit\n",
    "predictions = naive_model.predict(fh=list(range(30)))\n",
    "naive_predictions = predictions\n",
    "\n",
    "plt.plot(sales_train_item20949[\"item_cnt_day\"][-30:], color='blue')\n",
    "plt.plot(predictions, color='red')\n",
    "plt.show()"
   ]
  },
  {
   "cell_type": "markdown",
   "metadata": {},
   "source": [
    "#### 21: Remind us to what correspond the two shades of blue in the confidence intervals\n",
    "\n",
    "The two shades of blue correspond to the 95% confidence interval."
   ]
  },
  {
   "cell_type": "markdown",
   "metadata": {},
   "source": [
    "#### 22: Use the accuracy command to compute the RMSE statistics of your favourite models. What does RMSE mean ? What is the difference with MAE ? Why is it usually preferred to MSE ?"
   ]
  },
  {
   "cell_type": "code",
   "execution_count": null,
   "metadata": {},
   "outputs": [],
   "source": [
    "sarimax_predictions[-30:]"
   ]
  },
  {
   "cell_type": "code",
   "execution_count": null,
   "metadata": {},
   "outputs": [],
   "source": [
    "# Compute the accuracy of the naive model, and compare it to the accuracy of the SARIMA model\n",
    "\n",
    "# Compute the accuracy of the naive model\n",
    "\n",
    "print(\"Naive model accuracy : \", mean_squared_error(sales_train_item20949[\"item_cnt_day\"][-30:], naive_predictions))\n",
    "\n",
    "# Compute the accuracy of the SARIMA model\n",
    "\n",
    "print(\"SARIMA model accuracy : \", mean_squared_error(sales_train_item20949[\"item_cnt_day\"][-30:], sarimax_predictions[-30:]))"
   ]
  },
  {
   "cell_type": "markdown",
   "metadata": {},
   "source": [
    "From this we can conclude that a simple forecasting method is better than a more complex one on the last month.\n",
    "\n",
    "RMSE is the root mean squared error. It is the square root of the mean of the squared errors. The difference with MAE is that the RMSE is more sensitive to outliers. It is usually preferred to MSE because it is easier to interpret."
   ]
  },
  {
   "cell_type": "markdown",
   "metadata": {},
   "source": [
    "#### 23: Write a command that only returns the mean absolute percentage error"
   ]
  },
  {
   "cell_type": "code",
   "execution_count": null,
   "metadata": {},
   "outputs": [],
   "source": [
    "# Write a command that only returns the mean absolute percentage error\n",
    "\n",
    "def mean_absolute_percentage_error(y_true, y_pred):\n",
    "    return np.mean(np.abs((y_true - y_pred) / y_true)) * 100"
   ]
  },
  {
   "cell_type": "markdown",
   "metadata": {},
   "source": [
    "#### 24: Compute cross-validated errors for up to a week ahead, with a naive forecast approach"
   ]
  },
  {
   "cell_type": "code",
   "execution_count": null,
   "metadata": {},
   "outputs": [],
   "source": [
    "# Compute cross-validated errors for up to a week ahead, with a naive forecast approach\n",
    "\n"
   ]
  },
  {
   "cell_type": "markdown",
   "metadata": {},
   "source": [
    "#### 25: Use Auto-ARIMA to fit a model to your data. How does Auto-ARIMA work ?"
   ]
  },
  {
   "cell_type": "code",
   "execution_count": null,
   "metadata": {},
   "outputs": [],
   "source": [
    "sales_datetime = sales_train_item20949.groupby(\"date\").sum().reset_index()\n",
    "sales_datetime = sales_datetime[[\"date\", \"item_cnt_day\"]]\n",
    "sales_datetime = sales_datetime.set_index(\"date\")\n",
    "sales_datetime = sales_datetime.asfreq('D')\n",
    "sales_datetime = sales_datetime.fillna(0)\n",
    "sales_datetime[\"item_cnt_day\"] = sales_datetime[\"item_cnt_day\"].astype(int)\n",
    "sales_datetime"
   ]
  },
  {
   "cell_type": "code",
   "execution_count": null,
   "metadata": {},
   "outputs": [],
   "source": [
    "# Use Auto-ARIMA to fit a model to your data. How does Auto-ARIMA work ?\n",
    "\n",
    "# Fit an auto-ARIMA model\n",
    "auto_arima_model = AutoARIMA(seasonal=True)\n",
    "auto_arima_model.fit(sales_datetime[\"item_cnt_day\"])\n",
    "\n",
    "# Make predictions and plot them using model_fit\n",
    "predictions = auto_arima_model.predict(fh=list(range(30)))\n",
    "auto_arima_predictions = predictions\n",
    "\n",
    "plt.plot(predictions, color='red')\n",
    "plt.show()"
   ]
  },
  {
   "cell_type": "markdown",
   "metadata": {},
   "source": [
    "Auto-arima works by trying different combinations of parameters and choosing the one that minimizes the AIC criterion."
   ]
  },
  {
   "cell_type": "markdown",
   "metadata": {},
   "source": [
    "# Forecasting with Prophet"
   ]
  },
  {
   "cell_type": "code",
   "execution_count": null,
   "metadata": {},
   "outputs": [],
   "source": [
    "# import crimes data\n",
    "\n",
    "crimes = pd.read_csv(\"crimes.csv\")\n",
    "crimes"
   ]
  },
  {
   "cell_type": "code",
   "execution_count": 128,
   "metadata": {},
   "outputs": [
    {
     "data": {
      "text/html": [
       "<div>\n",
       "<style scoped>\n",
       "    .dataframe tbody tr th:only-of-type {\n",
       "        vertical-align: middle;\n",
       "    }\n",
       "\n",
       "    .dataframe tbody tr th {\n",
       "        vertical-align: top;\n",
       "    }\n",
       "\n",
       "    .dataframe thead th {\n",
       "        text-align: right;\n",
       "    }\n",
       "</style>\n",
       "<table border=\"1\" class=\"dataframe\">\n",
       "  <thead>\n",
       "    <tr style=\"text-align: right;\">\n",
       "      <th></th>\n",
       "      <th>ID</th>\n",
       "      <th>Case Number</th>\n",
       "      <th>Date</th>\n",
       "      <th>Block</th>\n",
       "      <th>IUCR</th>\n",
       "      <th>Primary Type</th>\n",
       "      <th>Description</th>\n",
       "      <th>Location Description</th>\n",
       "      <th>Arrest</th>\n",
       "      <th>Domestic</th>\n",
       "      <th>...</th>\n",
       "      <th>Community Area</th>\n",
       "      <th>FBI Code</th>\n",
       "      <th>X Coordinate</th>\n",
       "      <th>Y Coordinate</th>\n",
       "      <th>Year</th>\n",
       "      <th>Updated On</th>\n",
       "      <th>Latitude</th>\n",
       "      <th>Longitude</th>\n",
       "      <th>Location</th>\n",
       "      <th>Date day</th>\n",
       "    </tr>\n",
       "  </thead>\n",
       "  <tbody>\n",
       "    <tr>\n",
       "      <th>4</th>\n",
       "      <td>10224741</td>\n",
       "      <td>HY411610</td>\n",
       "      <td>2015-09-05 13:00:00</td>\n",
       "      <td>0000X N LARAMIE AVE</td>\n",
       "      <td>0560</td>\n",
       "      <td>ASSAULT</td>\n",
       "      <td>SIMPLE</td>\n",
       "      <td>APARTMENT</td>\n",
       "      <td>False</td>\n",
       "      <td>True</td>\n",
       "      <td>...</td>\n",
       "      <td>25.0</td>\n",
       "      <td>08A</td>\n",
       "      <td>1141706.0</td>\n",
       "      <td>1900086.0</td>\n",
       "      <td>2015</td>\n",
       "      <td>02/10/2018 03:50:01 PM</td>\n",
       "      <td>41.881903</td>\n",
       "      <td>-87.755121</td>\n",
       "      <td>(41.881903443, -87.755121152)</td>\n",
       "      <td>2015-09-05</td>\n",
       "    </tr>\n",
       "    <tr>\n",
       "      <th>25</th>\n",
       "      <td>10224765</td>\n",
       "      <td>HY411328</td>\n",
       "      <td>2015-09-05 08:45:00</td>\n",
       "      <td>077XX S SOUTH SHORE DR</td>\n",
       "      <td>0560</td>\n",
       "      <td>ASSAULT</td>\n",
       "      <td>SIMPLE</td>\n",
       "      <td>APARTMENT</td>\n",
       "      <td>False</td>\n",
       "      <td>True</td>\n",
       "      <td>...</td>\n",
       "      <td>43.0</td>\n",
       "      <td>08A</td>\n",
       "      <td>1197240.0</td>\n",
       "      <td>1854764.0</td>\n",
       "      <td>2015</td>\n",
       "      <td>02/10/2018 03:50:01 PM</td>\n",
       "      <td>41.756330</td>\n",
       "      <td>-87.552716</td>\n",
       "      <td>(41.756330319, -87.552716204)</td>\n",
       "      <td>2015-09-05</td>\n",
       "    </tr>\n",
       "    <tr>\n",
       "      <th>35</th>\n",
       "      <td>10224778</td>\n",
       "      <td>HY411675</td>\n",
       "      <td>2015-09-05 14:44:00</td>\n",
       "      <td>047XX N KEELER AVE</td>\n",
       "      <td>0560</td>\n",
       "      <td>ASSAULT</td>\n",
       "      <td>SIMPLE</td>\n",
       "      <td>SIDEWALK</td>\n",
       "      <td>True</td>\n",
       "      <td>False</td>\n",
       "      <td>...</td>\n",
       "      <td>14.0</td>\n",
       "      <td>08A</td>\n",
       "      <td>1147525.0</td>\n",
       "      <td>1931300.0</td>\n",
       "      <td>2015</td>\n",
       "      <td>02/10/2018 03:50:01 PM</td>\n",
       "      <td>41.967448</td>\n",
       "      <td>-87.732951</td>\n",
       "      <td>(41.967448012, -87.732951137)</td>\n",
       "      <td>2015-09-05</td>\n",
       "    </tr>\n",
       "    <tr>\n",
       "      <th>105</th>\n",
       "      <td>10224864</td>\n",
       "      <td>HY410860</td>\n",
       "      <td>2015-09-04 21:30:00</td>\n",
       "      <td>001XX E 78TH ST</td>\n",
       "      <td>051A</td>\n",
       "      <td>ASSAULT</td>\n",
       "      <td>AGGRAVATED: HANDGUN</td>\n",
       "      <td>STREET</td>\n",
       "      <td>False</td>\n",
       "      <td>False</td>\n",
       "      <td>...</td>\n",
       "      <td>69.0</td>\n",
       "      <td>04A</td>\n",
       "      <td>1178659.0</td>\n",
       "      <td>1853330.0</td>\n",
       "      <td>2015</td>\n",
       "      <td>02/10/2018 03:50:01 PM</td>\n",
       "      <td>41.752838</td>\n",
       "      <td>-87.620855</td>\n",
       "      <td>(41.75283774, -87.620854539)</td>\n",
       "      <td>2015-09-04</td>\n",
       "    </tr>\n",
       "    <tr>\n",
       "      <th>161</th>\n",
       "      <td>10224930</td>\n",
       "      <td>HY411813</td>\n",
       "      <td>2015-09-05 16:31:00</td>\n",
       "      <td>030XX W JACKSON BLVD</td>\n",
       "      <td>0560</td>\n",
       "      <td>ASSAULT</td>\n",
       "      <td>SIMPLE</td>\n",
       "      <td>APARTMENT</td>\n",
       "      <td>True</td>\n",
       "      <td>False</td>\n",
       "      <td>...</td>\n",
       "      <td>27.0</td>\n",
       "      <td>08A</td>\n",
       "      <td>1156223.0</td>\n",
       "      <td>1898534.0</td>\n",
       "      <td>2015</td>\n",
       "      <td>02/10/2018 03:50:01 PM</td>\n",
       "      <td>41.877364</td>\n",
       "      <td>-87.701857</td>\n",
       "      <td>(41.877363835, -87.701856542)</td>\n",
       "      <td>2015-09-05</td>\n",
       "    </tr>\n",
       "    <tr>\n",
       "      <th>...</th>\n",
       "      <td>...</td>\n",
       "      <td>...</td>\n",
       "      <td>...</td>\n",
       "      <td>...</td>\n",
       "      <td>...</td>\n",
       "      <td>...</td>\n",
       "      <td>...</td>\n",
       "      <td>...</td>\n",
       "      <td>...</td>\n",
       "      <td>...</td>\n",
       "      <td>...</td>\n",
       "      <td>...</td>\n",
       "      <td>...</td>\n",
       "      <td>...</td>\n",
       "      <td>...</td>\n",
       "      <td>...</td>\n",
       "      <td>...</td>\n",
       "      <td>...</td>\n",
       "      <td>...</td>\n",
       "      <td>...</td>\n",
       "      <td>...</td>\n",
       "    </tr>\n",
       "    <tr>\n",
       "      <th>7650179</th>\n",
       "      <td>12741910</td>\n",
       "      <td>JF294247</td>\n",
       "      <td>2022-06-26 02:17:00</td>\n",
       "      <td>043XX W 26TH ST</td>\n",
       "      <td>051A</td>\n",
       "      <td>ASSAULT</td>\n",
       "      <td>AGGRAVATED - HANDGUN</td>\n",
       "      <td>RESTAURANT</td>\n",
       "      <td>False</td>\n",
       "      <td>False</td>\n",
       "      <td>...</td>\n",
       "      <td>30.0</td>\n",
       "      <td>04A</td>\n",
       "      <td>1147996.0</td>\n",
       "      <td>1886369.0</td>\n",
       "      <td>2022</td>\n",
       "      <td>10/11/2022 04:45:59 PM</td>\n",
       "      <td>41.844144</td>\n",
       "      <td>-87.732377</td>\n",
       "      <td>(41.844143697, -87.732376706)</td>\n",
       "      <td>2022-06-26</td>\n",
       "    </tr>\n",
       "    <tr>\n",
       "      <th>7650180</th>\n",
       "      <td>12746015</td>\n",
       "      <td>JF299201</td>\n",
       "      <td>2022-06-29 19:34:00</td>\n",
       "      <td>018XX S CENTRAL PARK AVE</td>\n",
       "      <td>0560</td>\n",
       "      <td>ASSAULT</td>\n",
       "      <td>SIMPLE</td>\n",
       "      <td>APARTMENT</td>\n",
       "      <td>True</td>\n",
       "      <td>False</td>\n",
       "      <td>...</td>\n",
       "      <td>29.0</td>\n",
       "      <td>08A</td>\n",
       "      <td>1152668.0</td>\n",
       "      <td>1890643.0</td>\n",
       "      <td>2022</td>\n",
       "      <td>10/11/2022 04:45:59 PM</td>\n",
       "      <td>41.855781</td>\n",
       "      <td>-87.715118</td>\n",
       "      <td>(41.855781078, -87.715118246)</td>\n",
       "      <td>2022-06-29</td>\n",
       "    </tr>\n",
       "    <tr>\n",
       "      <th>7650188</th>\n",
       "      <td>12749392</td>\n",
       "      <td>JF303252</td>\n",
       "      <td>2022-07-02 20:30:00</td>\n",
       "      <td>007XX E 105TH PL</td>\n",
       "      <td>0560</td>\n",
       "      <td>ASSAULT</td>\n",
       "      <td>SIMPLE</td>\n",
       "      <td>RESIDENCE</td>\n",
       "      <td>False</td>\n",
       "      <td>True</td>\n",
       "      <td>...</td>\n",
       "      <td>50.0</td>\n",
       "      <td>08A</td>\n",
       "      <td>1182800.0</td>\n",
       "      <td>1835151.0</td>\n",
       "      <td>2022</td>\n",
       "      <td>10/11/2022 04:45:59 PM</td>\n",
       "      <td>41.702857</td>\n",
       "      <td>-87.606242</td>\n",
       "      <td>(41.702857328, -87.6062423)</td>\n",
       "      <td>2022-07-02</td>\n",
       "    </tr>\n",
       "    <tr>\n",
       "      <th>7650197</th>\n",
       "      <td>12748205</td>\n",
       "      <td>JF301816</td>\n",
       "      <td>2022-07-01 19:13:00</td>\n",
       "      <td>089XX S COMMERCIAL AVE</td>\n",
       "      <td>0560</td>\n",
       "      <td>ASSAULT</td>\n",
       "      <td>SIMPLE</td>\n",
       "      <td>GROCERY FOOD STORE</td>\n",
       "      <td>False</td>\n",
       "      <td>True</td>\n",
       "      <td>...</td>\n",
       "      <td>46.0</td>\n",
       "      <td>08A</td>\n",
       "      <td>1197699.0</td>\n",
       "      <td>1846169.0</td>\n",
       "      <td>2022</td>\n",
       "      <td>10/11/2022 04:45:59 PM</td>\n",
       "      <td>41.732734</td>\n",
       "      <td>-87.551320</td>\n",
       "      <td>(41.732733557, -87.551320357)</td>\n",
       "      <td>2022-07-01</td>\n",
       "    </tr>\n",
       "    <tr>\n",
       "      <th>7650198</th>\n",
       "      <td>12747872</td>\n",
       "      <td>JF301397</td>\n",
       "      <td>2022-07-01 10:45:00</td>\n",
       "      <td>010XX S CLARK ST</td>\n",
       "      <td>0560</td>\n",
       "      <td>ASSAULT</td>\n",
       "      <td>SIMPLE</td>\n",
       "      <td>RESIDENCE - PORCH / HALLWAY</td>\n",
       "      <td>False</td>\n",
       "      <td>False</td>\n",
       "      <td>...</td>\n",
       "      <td>32.0</td>\n",
       "      <td>08A</td>\n",
       "      <td>1175680.0</td>\n",
       "      <td>1895895.0</td>\n",
       "      <td>2022</td>\n",
       "      <td>10/11/2022 04:45:59 PM</td>\n",
       "      <td>41.869707</td>\n",
       "      <td>-87.630496</td>\n",
       "      <td>(41.869707206, -87.630495617)</td>\n",
       "      <td>2022-07-01</td>\n",
       "    </tr>\n",
       "  </tbody>\n",
       "</table>\n",
       "<p>496480 rows × 23 columns</p>\n",
       "</div>"
      ],
      "text/plain": [
       "               ID Case Number                Date                     Block  \\\n",
       "4        10224741    HY411610 2015-09-05 13:00:00       0000X N LARAMIE AVE   \n",
       "25       10224765    HY411328 2015-09-05 08:45:00    077XX S SOUTH SHORE DR   \n",
       "35       10224778    HY411675 2015-09-05 14:44:00        047XX N KEELER AVE   \n",
       "105      10224864    HY410860 2015-09-04 21:30:00           001XX E 78TH ST   \n",
       "161      10224930    HY411813 2015-09-05 16:31:00      030XX W JACKSON BLVD   \n",
       "...           ...         ...                 ...                       ...   \n",
       "7650179  12741910    JF294247 2022-06-26 02:17:00           043XX W 26TH ST   \n",
       "7650180  12746015    JF299201 2022-06-29 19:34:00  018XX S CENTRAL PARK AVE   \n",
       "7650188  12749392    JF303252 2022-07-02 20:30:00          007XX E 105TH PL   \n",
       "7650197  12748205    JF301816 2022-07-01 19:13:00    089XX S COMMERCIAL AVE   \n",
       "7650198  12747872    JF301397 2022-07-01 10:45:00          010XX S CLARK ST   \n",
       "\n",
       "         IUCR Primary Type           Description         Location Description  \\\n",
       "4        0560      ASSAULT                SIMPLE                    APARTMENT   \n",
       "25       0560      ASSAULT                SIMPLE                    APARTMENT   \n",
       "35       0560      ASSAULT                SIMPLE                     SIDEWALK   \n",
       "105      051A      ASSAULT   AGGRAVATED: HANDGUN                       STREET   \n",
       "161      0560      ASSAULT                SIMPLE                    APARTMENT   \n",
       "...       ...          ...                   ...                          ...   \n",
       "7650179  051A      ASSAULT  AGGRAVATED - HANDGUN                   RESTAURANT   \n",
       "7650180  0560      ASSAULT                SIMPLE                    APARTMENT   \n",
       "7650188  0560      ASSAULT                SIMPLE                    RESIDENCE   \n",
       "7650197  0560      ASSAULT                SIMPLE           GROCERY FOOD STORE   \n",
       "7650198  0560      ASSAULT                SIMPLE  RESIDENCE - PORCH / HALLWAY   \n",
       "\n",
       "         Arrest  Domestic  ...  Community Area  FBI Code  X Coordinate  \\\n",
       "4         False      True  ...            25.0       08A     1141706.0   \n",
       "25        False      True  ...            43.0       08A     1197240.0   \n",
       "35         True     False  ...            14.0       08A     1147525.0   \n",
       "105       False     False  ...            69.0       04A     1178659.0   \n",
       "161        True     False  ...            27.0       08A     1156223.0   \n",
       "...         ...       ...  ...             ...       ...           ...   \n",
       "7650179   False     False  ...            30.0       04A     1147996.0   \n",
       "7650180    True     False  ...            29.0       08A     1152668.0   \n",
       "7650188   False      True  ...            50.0       08A     1182800.0   \n",
       "7650197   False      True  ...            46.0       08A     1197699.0   \n",
       "7650198   False     False  ...            32.0       08A     1175680.0   \n",
       "\n",
       "         Y Coordinate  Year              Updated On   Latitude  Longitude  \\\n",
       "4           1900086.0  2015  02/10/2018 03:50:01 PM  41.881903 -87.755121   \n",
       "25          1854764.0  2015  02/10/2018 03:50:01 PM  41.756330 -87.552716   \n",
       "35          1931300.0  2015  02/10/2018 03:50:01 PM  41.967448 -87.732951   \n",
       "105         1853330.0  2015  02/10/2018 03:50:01 PM  41.752838 -87.620855   \n",
       "161         1898534.0  2015  02/10/2018 03:50:01 PM  41.877364 -87.701857   \n",
       "...               ...   ...                     ...        ...        ...   \n",
       "7650179     1886369.0  2022  10/11/2022 04:45:59 PM  41.844144 -87.732377   \n",
       "7650180     1890643.0  2022  10/11/2022 04:45:59 PM  41.855781 -87.715118   \n",
       "7650188     1835151.0  2022  10/11/2022 04:45:59 PM  41.702857 -87.606242   \n",
       "7650197     1846169.0  2022  10/11/2022 04:45:59 PM  41.732734 -87.551320   \n",
       "7650198     1895895.0  2022  10/11/2022 04:45:59 PM  41.869707 -87.630496   \n",
       "\n",
       "                              Location    Date day  \n",
       "4        (41.881903443, -87.755121152)  2015-09-05  \n",
       "25       (41.756330319, -87.552716204)  2015-09-05  \n",
       "35       (41.967448012, -87.732951137)  2015-09-05  \n",
       "105       (41.75283774, -87.620854539)  2015-09-04  \n",
       "161      (41.877363835, -87.701856542)  2015-09-05  \n",
       "...                                ...         ...  \n",
       "7650179  (41.844143697, -87.732376706)  2022-06-26  \n",
       "7650180  (41.855781078, -87.715118246)  2022-06-29  \n",
       "7650188    (41.702857328, -87.6062423)  2022-07-02  \n",
       "7650197  (41.732733557, -87.551320357)  2022-07-01  \n",
       "7650198  (41.869707206, -87.630495617)  2022-07-01  \n",
       "\n",
       "[496480 rows x 23 columns]"
      ]
     },
     "execution_count": 128,
     "metadata": {},
     "output_type": "execute_result"
    }
   ],
   "source": [
    "assaults = crimes[crimes[\"Primary Type\"] == \"ASSAULT\"]\n",
    "assaults.Date = pd.to_datetime(assaults.Date, format=\"%m/%d/%Y %I:%M:%S %p\")\n",
    "assaults[\"Date day\"] = assaults.Date.dt.date\n",
    "assaults"
   ]
  },
  {
   "cell_type": "code",
   "execution_count": 129,
   "metadata": {},
   "outputs": [
    {
     "data": {
      "text/plain": [
       "4"
      ]
     },
     "execution_count": 129,
     "metadata": {},
     "output_type": "execute_result"
    }
   ],
   "source": [
    "len(assaults[assaults[\"Date\"] == \"2022-10-09\"].index)"
   ]
  },
  {
   "cell_type": "code",
   "execution_count": 130,
   "metadata": {},
   "outputs": [
    {
     "data": {
      "text/html": [
       "<div>\n",
       "<style scoped>\n",
       "    .dataframe tbody tr th:only-of-type {\n",
       "        vertical-align: middle;\n",
       "    }\n",
       "\n",
       "    .dataframe tbody tr th {\n",
       "        vertical-align: top;\n",
       "    }\n",
       "\n",
       "    .dataframe thead th {\n",
       "        text-align: right;\n",
       "    }\n",
       "</style>\n",
       "<table border=\"1\" class=\"dataframe\">\n",
       "  <thead>\n",
       "    <tr style=\"text-align: right;\">\n",
       "      <th></th>\n",
       "      <th>ds</th>\n",
       "      <th>y</th>\n",
       "    </tr>\n",
       "  </thead>\n",
       "  <tbody>\n",
       "    <tr>\n",
       "      <th>0</th>\n",
       "      <td>2001-01-01</td>\n",
       "      <td>70</td>\n",
       "    </tr>\n",
       "    <tr>\n",
       "      <th>1</th>\n",
       "      <td>2001-01-02</td>\n",
       "      <td>66</td>\n",
       "    </tr>\n",
       "    <tr>\n",
       "      <th>2</th>\n",
       "      <td>2001-01-03</td>\n",
       "      <td>79</td>\n",
       "    </tr>\n",
       "    <tr>\n",
       "      <th>3</th>\n",
       "      <td>2001-01-04</td>\n",
       "      <td>57</td>\n",
       "    </tr>\n",
       "    <tr>\n",
       "      <th>4</th>\n",
       "      <td>2001-01-05</td>\n",
       "      <td>68</td>\n",
       "    </tr>\n",
       "    <tr>\n",
       "      <th>...</th>\n",
       "      <td>...</td>\n",
       "      <td>...</td>\n",
       "    </tr>\n",
       "    <tr>\n",
       "      <th>7947</th>\n",
       "      <td>2022-10-05</td>\n",
       "      <td>61</td>\n",
       "    </tr>\n",
       "    <tr>\n",
       "      <th>7948</th>\n",
       "      <td>2022-10-06</td>\n",
       "      <td>59</td>\n",
       "    </tr>\n",
       "    <tr>\n",
       "      <th>7949</th>\n",
       "      <td>2022-10-07</td>\n",
       "      <td>55</td>\n",
       "    </tr>\n",
       "    <tr>\n",
       "      <th>7950</th>\n",
       "      <td>2022-10-08</td>\n",
       "      <td>36</td>\n",
       "    </tr>\n",
       "    <tr>\n",
       "      <th>7951</th>\n",
       "      <td>2022-10-09</td>\n",
       "      <td>47</td>\n",
       "    </tr>\n",
       "  </tbody>\n",
       "</table>\n",
       "<p>7952 rows × 2 columns</p>\n",
       "</div>"
      ],
      "text/plain": [
       "              ds   y\n",
       "0     2001-01-01  70\n",
       "1     2001-01-02  66\n",
       "2     2001-01-03  79\n",
       "3     2001-01-04  57\n",
       "4     2001-01-05  68\n",
       "...          ...  ..\n",
       "7947  2022-10-05  61\n",
       "7948  2022-10-06  59\n",
       "7949  2022-10-07  55\n",
       "7950  2022-10-08  36\n",
       "7951  2022-10-09  47\n",
       "\n",
       "[7952 rows x 2 columns]"
      ]
     },
     "execution_count": 130,
     "metadata": {},
     "output_type": "execute_result"
    }
   ],
   "source": [
    "# make predictions of the assaults with prophet\n",
    "\n",
    "assaults_prophet = assaults.groupby(\"Date day\").size().reset_index()\n",
    "assaults_prophet.columns = [\"ds\", \"y\"]\n",
    "assaults_prophet\n"
   ]
  },
  {
   "cell_type": "code",
   "execution_count": null,
   "metadata": {},
   "outputs": [],
   "source": [
    "\n",
    "# Fit a prophet model\n",
    "assaults_prophet_model = Prophet()\n",
    "assaults_prophet_model.fit(assaults_prophet)\n",
    "\n",
    "# Make predictions and plot them using model_fit\n",
    "predictions = assaults_prophet_model.make_future_dataframe(periods=365)\n",
    "predictions = assaults_prophet_model.predict(predictions)\n",
    "assaults_prophet_predictions = predictions\n",
    "\n",
    "assaults_prophet_model.plot(predictions)\n",
    "plt.show()"
   ]
  }
 ],
 "metadata": {
  "kernelspec": {
   "display_name": "Python 3.10.6 64-bit",
   "language": "python",
   "name": "python3"
  },
  "language_info": {
   "codemirror_mode": {
    "name": "ipython",
    "version": 3
   },
   "file_extension": ".py",
   "mimetype": "text/x-python",
   "name": "python",
   "nbconvert_exporter": "python",
   "pygments_lexer": "ipython3",
   "version": "3.10.7"
  },
  "orig_nbformat": 4,
  "vscode": {
   "interpreter": {
    "hash": "aee8b7b246df8f9039afb4144a1f6fd8d2ca17a180786b69acc140d282b71a49"
   }
  }
 },
 "nbformat": 4,
 "nbformat_minor": 2
}
